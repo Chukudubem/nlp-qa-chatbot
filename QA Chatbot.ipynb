{
 "cells": [
  {
   "cell_type": "markdown",
   "metadata": {},
   "source": [
    "## CREATING QA BOT WITH PYTHON"
   ]
  },
  {
   "cell_type": "code",
   "execution_count": 1,
   "metadata": {},
   "outputs": [
    {
     "name": "stderr",
     "output_type": "stream",
     "text": [
      "Using TensorFlow backend.\n"
     ]
    }
   ],
   "source": [
    "import pickle\n",
    "import numpy as np\n",
    "import matplotlib.pyplot as plt\n",
    "from keras.models import Sequential, Model\n",
    "from keras.layers.embeddings import Embedding\n",
    "from keras.preprocessing.text import Tokenizer\n",
    "from keras.preprocessing.sequence import pad_sequences\n",
    "from keras.layers import Input, Activation, Dense, Permute, Dropout, add, dot, concatenate, LSTM"
   ]
  },
  {
   "cell_type": "markdown",
   "metadata": {},
   "source": [
    "### Load Data"
   ]
  },
  {
   "cell_type": "code",
   "execution_count": 12,
   "metadata": {},
   "outputs": [],
   "source": [
    "#Loading training data\n",
    "with open('train_qa.txt','rb') as f:\n",
    "    train_data = pickle.load(f)"
   ]
  },
  {
   "cell_type": "code",
   "execution_count": 13,
   "metadata": {},
   "outputs": [],
   "source": [
    "#Loading test data\n",
    "with open('test_qa.txt','rb') as f:\n",
    "    test_data = pickle.load(f)"
   ]
  },
  {
   "cell_type": "code",
   "execution_count": 4,
   "metadata": {},
   "outputs": [
    {
     "data": {
      "text/plain": [
       "(10000, 1000)"
      ]
     },
     "execution_count": 4,
     "metadata": {},
     "output_type": "execute_result"
    }
   ],
   "source": [
    "len(train_data), len(test_data)"
   ]
  },
  {
   "cell_type": "code",
   "execution_count": 5,
   "metadata": {},
   "outputs": [
    {
     "data": {
      "text/plain": [
       "(['Mary',\n",
       "  'moved',\n",
       "  'to',\n",
       "  'the',\n",
       "  'bathroom',\n",
       "  '.',\n",
       "  'Sandra',\n",
       "  'journeyed',\n",
       "  'to',\n",
       "  'the',\n",
       "  'bedroom',\n",
       "  '.'],\n",
       " ['Is', 'Sandra', 'in', 'the', 'hallway', '?'],\n",
       " 'no')"
      ]
     },
     "execution_count": 5,
     "metadata": {},
     "output_type": "execute_result"
    }
   ],
   "source": [
    "train_data[0]"
   ]
  },
  {
   "cell_type": "markdown",
   "metadata": {},
   "source": [
    "#### Train data contains 10, 000 tuples. Each tuple holds a list comprehension of the story, question, and  a \"yes\"/\"no\" answer."
   ]
  },
  {
   "cell_type": "code",
   "execution_count": 6,
   "metadata": {},
   "outputs": [
    {
     "data": {
      "text/plain": [
       "'Mary moved to the bathroom . Sandra journeyed to the bedroom .'"
      ]
     },
     "execution_count": 6,
     "metadata": {},
     "output_type": "execute_result"
    }
   ],
   "source": [
    "# Story\n",
    "\" \".join(train_data[0][0])"
   ]
  },
  {
   "cell_type": "code",
   "execution_count": 7,
   "metadata": {},
   "outputs": [
    {
     "data": {
      "text/plain": [
       "'Is Sandra in the hallway ?'"
      ]
     },
     "execution_count": 7,
     "metadata": {},
     "output_type": "execute_result"
    }
   ],
   "source": [
    "# Question\n",
    "\" \".join(train_data[0][1])"
   ]
  },
  {
   "cell_type": "code",
   "execution_count": 8,
   "metadata": {},
   "outputs": [
    {
     "data": {
      "text/plain": [
       "'no'"
      ]
     },
     "execution_count": 8,
     "metadata": {},
     "output_type": "execute_result"
    }
   ],
   "source": [
    "# Answer\n",
    "train_data[0][2]"
   ]
  },
  {
   "cell_type": "markdown",
   "metadata": {},
   "source": [
    "### Data Preparation"
   ]
  },
  {
   "cell_type": "code",
   "execution_count": 14,
   "metadata": {},
   "outputs": [],
   "source": [
    "all_data = train_data + test_data # Combine train data and test data"
   ]
  },
  {
   "cell_type": "code",
   "execution_count": 15,
   "metadata": {},
   "outputs": [],
   "source": [
    "def vocab_creator(data):\n",
    "    '''\n",
    "    Creating vocabulary of words present in dataset\n",
    "    '''\n",
    "    vocab = set()\n",
    "    for story, question, answer in data:\n",
    "        vocab = vocab.union(set(story))\n",
    "        vocab = vocab.union(set(question))\n",
    "    vocab.add('yes')\n",
    "    vocab.add('no')\n",
    "    \n",
    "    tokenizer = Tokenizer(filters = [])\n",
    "    tokenizer.fit_on_texts(vocab)\n",
    "    \n",
    "    max_story_len = max([len(datum[0]) for datum in data]) #maximum story length\n",
    "    max_question_len = max([len(datum[1]) for datum in data]) #maximum question length\n",
    "    \n",
    "    return tokenizer, max_story_len, max_question_len, vocab"
   ]
  },
  {
   "cell_type": "code",
   "execution_count": 16,
   "metadata": {},
   "outputs": [],
   "source": [
    "tokenizer, max_story_len, max_question_len, vocab = vocab_creator(all_data) \n",
    "vocab_size = len(vocab) + 1 #size of our vocabulary\n",
    "input_sequence = Input((max_story_len,)) #placeholder for shape = (max_story_len, batch_size)\n",
    "question = Input((max_question_len,))"
   ]
  },
  {
   "cell_type": "code",
   "execution_count": 17,
   "metadata": {},
   "outputs": [],
   "source": [
    "def vectorize_stories(data, word_index = tokenizer.word_index, \n",
    "                      max_story_len = max_story_len, \n",
    "                      max_question_len = max_question_len):\n",
    "    '''\n",
    "    Vectorizes story, question, and answer with padded sequences\n",
    "    X = Stories\n",
    "    X_Q = Questions\n",
    "    Y  = Answers\n",
    "    '''\n",
    "    X  = []\n",
    "    X_Q = []\n",
    "    Y = []\n",
    "    \n",
    "    for stories ,questions, answers in data:\n",
    "        '''\n",
    "        For each story\n",
    "        [23,14,43,...]\n",
    "        '''\n",
    "        x = [word_index[word.lower()] for word in stories]\n",
    "        x_q = [word_index[word.lower()] for word in questions]\n",
    "        \n",
    "        y = np.zeros(len(word_index) + 1)\n",
    "        \n",
    "        y[word_index[answers]] = 1\n",
    "        \n",
    "        X.append(x)\n",
    "        X_Q.append(x_q)\n",
    "        Y.append(y)\n",
    "    return (pad_sequences(X, maxlen = max_story_len), pad_sequences(X_Q, maxlen = max_question_len), np.array(Y))"
   ]
  },
  {
   "cell_type": "code",
   "execution_count": 18,
   "metadata": {},
   "outputs": [],
   "source": [
    "inputs_train, queries_train, answers_train = vectorize_stories(train_data)"
   ]
  },
  {
   "cell_type": "code",
   "execution_count": 19,
   "metadata": {},
   "outputs": [],
   "source": [
    "inputs_test, queries_test, answers_test = vectorize_stories(test_data)"
   ]
  },
  {
   "cell_type": "markdown",
   "metadata": {},
   "source": [
    "### DATA MODELING"
   ]
  },
  {
   "cell_type": "code",
   "execution_count": 21,
   "metadata": {},
   "outputs": [],
   "source": [
    "def model(vocab_size = vocab_size, max_question_len = max_question_len, input_sequence = input_sequence, question = question):\n",
    "    '''\n",
    "    Input Encoder M\n",
    "    Gets embedded to a seq of vecotrs\n",
    "    '''\n",
    "    input_encoder_m = Sequential()\n",
    "    input_encoder_m.add(Embedding(input_dim=vocab_size, output_dim = 64))\n",
    "    input_encoder_m.add(Dropout(0.3))\n",
    "\n",
    "    '''\n",
    "    Input Encoder C\n",
    "    Gets embedded to a seq of vecotrs\n",
    "    '''\n",
    "    input_encoder_c = Sequential()\n",
    "    input_encoder_c.add(Embedding(input_dim=vocab_size, output_dim = max_question_len))\n",
    "    input_encoder_c.add(Dropout(.3))\n",
    "    \n",
    "    '''\n",
    "    Question Encoder\n",
    "    '''\n",
    "    question_encoder = Sequential()\n",
    "    question_encoder.add(Embedding(input_dim=vocab_size, output_dim = 64, input_length = max_question_len))\n",
    "    question_encoder.add(Dropout(.3))\n",
    "    \n",
    "    '''\n",
    "    ENCODED RESULT <-- ENCODER(INPUT)\n",
    "    '''\n",
    "    input_encoded_m = input_encoder_m(input_sequence)\n",
    "    input_encoded_c = input_encoder_c(input_sequence)\n",
    "    question_encoded =  question_encoder(question)\n",
    "\n",
    "    '''\n",
    "    Use dot product to compute the match between the first input vector\n",
    "    seq and the query\n",
    "    '''\n",
    "    match = dot([input_encoded_m, question_encoded], axes =(2,2))\n",
    "    match = Activation('softmax')(match)\n",
    "    \n",
    "    '''\n",
    "    Add above match matrix to second input vector seq\n",
    "    '''\n",
    "    response = add([match, input_encoded_c])\n",
    "    response = Permute((2,1))(response) # convert it to have a output of samples dim by query_max_len by story_max_len\n",
    "    \n",
    "    '''\n",
    "    Now we can concat the match matrix with the question vector seq\n",
    "    '''\n",
    "    answer = concatenate([response, question_encoded])\n",
    "    answer = LSTM(32)(answer)\n",
    "    answer = Dropout(0.5)(answer)\n",
    "    answer = Dense(vocab_size)(answer) # (sample, vocab_size)\n",
    "    answer = Activation('softmax')(answer)\n",
    "    model = Model([input_sequence, question], answer)\n",
    "    model.compile(optimizer = 'rmsprop', loss='categorical_crossentropy', metrics=['accuracy'])\n",
    "    \n",
    "    return model"
   ]
  },
  {
   "cell_type": "code",
   "execution_count": 22,
   "metadata": {},
   "outputs": [
    {
     "name": "stdout",
     "output_type": "stream",
     "text": [
      "__________________________________________________________________________________________________\n",
      "Layer (type)                    Output Shape         Param #     Connected to                     \n",
      "==================================================================================================\n",
      "input_3 (InputLayer)            (None, 156)          0                                            \n",
      "__________________________________________________________________________________________________\n",
      "input_4 (InputLayer)            (None, 6)            0                                            \n",
      "__________________________________________________________________________________________________\n",
      "sequential_1 (Sequential)       multiple             2432        input_3[0][0]                    \n",
      "__________________________________________________________________________________________________\n",
      "sequential_3 (Sequential)       (None, 6, 64)        2432        input_4[0][0]                    \n",
      "__________________________________________________________________________________________________\n",
      "dot_1 (Dot)                     (None, 156, 6)       0           sequential_1[1][0]               \n",
      "                                                                 sequential_3[1][0]               \n",
      "__________________________________________________________________________________________________\n",
      "activation_1 (Activation)       (None, 156, 6)       0           dot_1[0][0]                      \n",
      "__________________________________________________________________________________________________\n",
      "sequential_2 (Sequential)       multiple             228         input_3[0][0]                    \n",
      "__________________________________________________________________________________________________\n",
      "add_1 (Add)                     (None, 156, 6)       0           activation_1[0][0]               \n",
      "                                                                 sequential_2[1][0]               \n",
      "__________________________________________________________________________________________________\n",
      "permute_1 (Permute)             (None, 6, 156)       0           add_1[0][0]                      \n",
      "__________________________________________________________________________________________________\n",
      "concatenate_1 (Concatenate)     (None, 6, 220)       0           permute_1[0][0]                  \n",
      "                                                                 sequential_3[1][0]               \n",
      "__________________________________________________________________________________________________\n",
      "lstm_1 (LSTM)                   (None, 32)           32384       concatenate_1[0][0]              \n",
      "__________________________________________________________________________________________________\n",
      "dropout_4 (Dropout)             (None, 32)           0           lstm_1[0][0]                     \n",
      "__________________________________________________________________________________________________\n",
      "dense_1 (Dense)                 (None, 38)           1254        dropout_4[0][0]                  \n",
      "__________________________________________________________________________________________________\n",
      "activation_2 (Activation)       (None, 38)           0           dense_1[0][0]                    \n",
      "==================================================================================================\n",
      "Total params: 38,730\n",
      "Trainable params: 38,730\n",
      "Non-trainable params: 0\n",
      "__________________________________________________________________________________________________\n"
     ]
    }
   ],
   "source": [
    "### Run model\n",
    "model = model()\n",
    "model.summary()"
   ]
  },
  {
   "cell_type": "markdown",
   "metadata": {},
   "source": [
    "### TRAINING"
   ]
  },
  {
   "cell_type": "code",
   "execution_count": 23,
   "metadata": {},
   "outputs": [
    {
     "name": "stdout",
     "output_type": "stream",
     "text": [
      "Train on 10000 samples, validate on 1000 samples\n",
      "Epoch 1/40\n",
      "10000/10000 [==============================] - 5s 463us/step - loss: 0.8859 - acc: 0.4965 - val_loss: 0.6946 - val_acc: 0.4970\n",
      "Epoch 2/40\n",
      "10000/10000 [==============================] - 3s 340us/step - loss: 0.7048 - acc: 0.5038 - val_loss: 0.6997 - val_acc: 0.5030\n",
      "Epoch 3/40\n",
      "10000/10000 [==============================] - 3s 345us/step - loss: 0.6965 - acc: 0.5024 - val_loss: 0.6935 - val_acc: 0.4970\n",
      "Epoch 4/40\n",
      "10000/10000 [==============================] - 4s 354us/step - loss: 0.6948 - acc: 0.5076 - val_loss: 0.6933 - val_acc: 0.4970\n",
      "Epoch 5/40\n",
      "10000/10000 [==============================] - 4s 392us/step - loss: 0.6939 - acc: 0.5131 - val_loss: 0.6937 - val_acc: 0.4970\n",
      "Epoch 6/40\n",
      "10000/10000 [==============================] - 5s 464us/step - loss: 0.6951 - acc: 0.4950 - val_loss: 0.6935 - val_acc: 0.4970\n",
      "Epoch 7/40\n",
      "10000/10000 [==============================] - 4s 432us/step - loss: 0.6941 - acc: 0.5005 - val_loss: 0.6927 - val_acc: 0.4910\n",
      "Epoch 8/40\n",
      "10000/10000 [==============================] - 5s 452us/step - loss: 0.6761 - acc: 0.5638 - val_loss: 0.6490 - val_acc: 0.5590\n",
      "Epoch 9/40\n",
      "10000/10000 [==============================] - 4s 442us/step - loss: 0.5568 - acc: 0.7277 - val_loss: 0.4631 - val_acc: 0.8150\n",
      "Epoch 10/40\n",
      "10000/10000 [==============================] - 4s 431us/step - loss: 0.4662 - acc: 0.7951 - val_loss: 0.4476 - val_acc: 0.7740\n",
      "Epoch 11/40\n",
      "10000/10000 [==============================] - 4s 436us/step - loss: 0.4240 - acc: 0.8274 - val_loss: 0.4223 - val_acc: 0.7940\n",
      "Epoch 12/40\n",
      "10000/10000 [==============================] - 4s 441us/step - loss: 0.3913 - acc: 0.8366 - val_loss: 0.3897 - val_acc: 0.8320\n",
      "Epoch 13/40\n",
      "10000/10000 [==============================] - 4s 431us/step - loss: 0.3797 - acc: 0.8454 - val_loss: 0.3895 - val_acc: 0.8380\n",
      "Epoch 14/40\n",
      "10000/10000 [==============================] - 4s 435us/step - loss: 0.3667 - acc: 0.8469 - val_loss: 0.3822 - val_acc: 0.8310\n",
      "Epoch 15/40\n",
      "10000/10000 [==============================] - 4s 448us/step - loss: 0.3562 - acc: 0.8522 - val_loss: 0.3718 - val_acc: 0.8470\n",
      "Epoch 16/40\n",
      "10000/10000 [==============================] - 5s 463us/step - loss: 0.3499 - acc: 0.8543 - val_loss: 0.3664 - val_acc: 0.8380\n",
      "Epoch 17/40\n",
      "10000/10000 [==============================] - 5s 454us/step - loss: 0.3413 - acc: 0.8597 - val_loss: 0.3763 - val_acc: 0.8470\n",
      "Epoch 18/40\n",
      "10000/10000 [==============================] - 5s 466us/step - loss: 0.3338 - acc: 0.8546 - val_loss: 0.3548 - val_acc: 0.8530\n",
      "Epoch 19/40\n",
      "10000/10000 [==============================] - 5s 461us/step - loss: 0.3296 - acc: 0.8570 - val_loss: 0.3540 - val_acc: 0.8280\n",
      "Epoch 20/40\n",
      "10000/10000 [==============================] - 5s 472us/step - loss: 0.3235 - acc: 0.8602 - val_loss: 0.3725 - val_acc: 0.8330\n",
      "Epoch 21/40\n",
      "10000/10000 [==============================] - 5s 456us/step - loss: 0.3203 - acc: 0.8608 - val_loss: 0.3367 - val_acc: 0.8440\n",
      "Epoch 22/40\n",
      "10000/10000 [==============================] - 4s 448us/step - loss: 0.3201 - acc: 0.8649 - val_loss: 0.3506 - val_acc: 0.8270\n",
      "Epoch 23/40\n",
      "10000/10000 [==============================] - 5s 456us/step - loss: 0.3170 - acc: 0.8589 - val_loss: 0.3608 - val_acc: 0.8250\n",
      "Epoch 24/40\n",
      "10000/10000 [==============================] - 4s 447us/step - loss: 0.3129 - acc: 0.8656 - val_loss: 0.3387 - val_acc: 0.8470\n",
      "Epoch 25/40\n",
      "10000/10000 [==============================] - 5s 450us/step - loss: 0.3122 - acc: 0.8633 - val_loss: 0.3390 - val_acc: 0.8440\n",
      "Epoch 26/40\n",
      "10000/10000 [==============================] - 5s 453us/step - loss: 0.3108 - acc: 0.8631 - val_loss: 0.3500 - val_acc: 0.8310\n",
      "Epoch 27/40\n",
      "10000/10000 [==============================] - 5s 486us/step - loss: 0.3092 - acc: 0.8637 - val_loss: 0.3333 - val_acc: 0.8390\n",
      "Epoch 28/40\n",
      "10000/10000 [==============================] - 4s 416us/step - loss: 0.3087 - acc: 0.8645 - val_loss: 0.3430 - val_acc: 0.8440\n",
      "Epoch 29/40\n",
      "10000/10000 [==============================] - 5s 479us/step - loss: 0.3096 - acc: 0.8632 - val_loss: 0.3268 - val_acc: 0.8530\n",
      "Epoch 30/40\n",
      "10000/10000 [==============================] - 4s 411us/step - loss: 0.3035 - acc: 0.8650 - val_loss: 0.3321 - val_acc: 0.8480\n",
      "Epoch 31/40\n",
      "10000/10000 [==============================] - 5s 511us/step - loss: 0.3040 - acc: 0.8654 - val_loss: 0.3293 - val_acc: 0.8440\n",
      "Epoch 32/40\n",
      "10000/10000 [==============================] - 4s 414us/step - loss: 0.3009 - acc: 0.8654 - val_loss: 0.3688 - val_acc: 0.8440\n",
      "Epoch 33/40\n",
      "10000/10000 [==============================] - 5s 473us/step - loss: 0.3040 - acc: 0.8640 - val_loss: 0.3228 - val_acc: 0.8520\n",
      "Epoch 34/40\n",
      "10000/10000 [==============================] - 5s 455us/step - loss: 0.3015 - acc: 0.8683 - val_loss: 0.3307 - val_acc: 0.8400\n",
      "Epoch 35/40\n",
      "10000/10000 [==============================] - 4s 437us/step - loss: 0.3057 - acc: 0.8624 - val_loss: 0.3441 - val_acc: 0.8360\n",
      "Epoch 36/40\n",
      "10000/10000 [==============================] - 5s 515us/step - loss: 0.3011 - acc: 0.8652 - val_loss: 0.3358 - val_acc: 0.8420\n",
      "Epoch 37/40\n",
      "10000/10000 [==============================] - 5s 457us/step - loss: 0.2968 - acc: 0.8687 - val_loss: 0.3378 - val_acc: 0.8440\n",
      "Epoch 38/40\n",
      "10000/10000 [==============================] - 5s 457us/step - loss: 0.2995 - acc: 0.8669 - val_loss: 0.3337 - val_acc: 0.8510\n",
      "Epoch 39/40\n",
      "10000/10000 [==============================] - 5s 454us/step - loss: 0.2996 - acc: 0.8682 - val_loss: 0.3562 - val_acc: 0.8420\n",
      "Epoch 40/40\n",
      "10000/10000 [==============================] - 5s 453us/step - loss: 0.2983 - acc: 0.8700 - val_loss: 0.3279 - val_acc: 0.8430\n"
     ]
    }
   ],
   "source": [
    "### Training data\n",
    "history = model.fit([inputs_train, queries_train], answers_train, batch_size = 32, epochs = 40, validation_data=([inputs_test, queries_test], answers_test))"
   ]
  },
  {
   "cell_type": "markdown",
   "metadata": {},
   "source": [
    "### Evaluating Model\n",
    "#### Plotting Training History"
   ]
  },
  {
   "cell_type": "code",
   "execution_count": 24,
   "metadata": {},
   "outputs": [
    {
     "name": "stdout",
     "output_type": "stream",
     "text": [
      "dict_keys(['val_loss', 'val_acc', 'loss', 'acc'])\n"
     ]
    },
    {
     "data": {
      "image/png": "[encoded data removed]",
      "text/plain": [
       "<Figure size 432x288 with 1 Axes>"
      ]
     },
     "metadata": {
      "needs_background": "light"
     },
     "output_type": "display_data"
    }
   ],
   "source": [
    "print(history.history.keys())\n",
    "\n",
    "#summarize history for accuracy\n",
    "plt.plot(history.history['acc'])\n",
    "plt.plot(history.history['val_acc'])\n",
    "plt.title('model accuracy')\n",
    "plt.ylabel('accuracy')\n",
    "plt.xlabel('epoch')\n",
    "plt.legend(['train', 'test'], loc = 'lower right')\n",
    "plt.show()"
   ]
  },
  {
   "cell_type": "code",
   "execution_count": null,
   "metadata": {},
   "outputs": [],
   "source": [
    "model.save('qachatbot.h5')"
   ]
  },
  {
   "cell_type": "markdown",
   "metadata": {},
   "source": [
    "### Prediction"
   ]
  },
  {
   "cell_type": "markdown",
   "metadata": {},
   "source": [
    "I will create my own story and question to test the model on. Keep in mind that our model was trained on the words in the \"vocab\" *only*, so in creating our own story, we will have to stick to words in the vocabulary.\n",
    "\n",
    "Also, keep a space between punctuations so as to recreate the input we trained on"
   ]
  },
  {
   "cell_type": "code",
   "execution_count": 25,
   "metadata": {},
   "outputs": [],
   "source": [
    "_, _ , _, vocab = vocab_creator(train_data + test_data)"
   ]
  },
  {
   "cell_type": "code",
   "execution_count": 26,
   "metadata": {},
   "outputs": [
    {
     "data": {
      "text/plain": [
       "{'.',\n",
       " '?',\n",
       " 'Daniel',\n",
       " 'Is',\n",
       " 'John',\n",
       " 'Mary',\n",
       " 'Sandra',\n",
       " 'apple',\n",
       " 'back',\n",
       " 'bathroom',\n",
       " 'bedroom',\n",
       " 'discarded',\n",
       " 'down',\n",
       " 'dropped',\n",
       " 'football',\n",
       " 'garden',\n",
       " 'got',\n",
       " 'grabbed',\n",
       " 'hallway',\n",
       " 'in',\n",
       " 'journeyed',\n",
       " 'kitchen',\n",
       " 'left',\n",
       " 'milk',\n",
       " 'moved',\n",
       " 'no',\n",
       " 'office',\n",
       " 'picked',\n",
       " 'put',\n",
       " 'the',\n",
       " 'there',\n",
       " 'to',\n",
       " 'took',\n",
       " 'travelled',\n",
       " 'up',\n",
       " 'went',\n",
       " 'yes'}"
      ]
     },
     "execution_count": 26,
     "metadata": {},
     "output_type": "execute_result"
    }
   ],
   "source": [
    "vocab"
   ]
  },
  {
   "cell_type": "code",
   "execution_count": 33,
   "metadata": {},
   "outputs": [],
   "source": [
    "my_story = \"Mary dropped the milk in the kitchen . Mary went to the office . \"\n",
    "my_question = \"Is Mary in the office ?\""
   ]
  },
  {
   "cell_type": "code",
   "execution_count": 34,
   "metadata": {},
   "outputs": [
    {
     "data": {
      "text/plain": [
       "[(['Mary',\n",
       "   'dropped',\n",
       "   'the',\n",
       "   'milk',\n",
       "   'in',\n",
       "   'the',\n",
       "   'kitchen',\n",
       "   '.',\n",
       "   'Mary',\n",
       "   'went',\n",
       "   'to',\n",
       "   'the',\n",
       "   'office',\n",
       "   '.'],\n",
       "  ['Is', 'Mary', 'in', 'the', 'office', '?'],\n",
       "  'yes')]"
      ]
     },
     "execution_count": 34,
     "metadata": {},
     "output_type": "execute_result"
    }
   ],
   "source": [
    "mydata = [(my_story.split(), my_question.split(), 'yes')]\n",
    "mydata"
   ]
  },
  {
   "cell_type": "code",
   "execution_count": 35,
   "metadata": {},
   "outputs": [],
   "source": [
    "my_story, my_question, my_answer = vectorize_stories(mydata)"
   ]
  },
  {
   "cell_type": "code",
   "execution_count": 36,
   "metadata": {},
   "outputs": [],
   "source": [
    "predict_result = model.predict(([my_story, my_question]))"
   ]
  },
  {
   "cell_type": "code",
   "execution_count": 37,
   "metadata": {},
   "outputs": [
    {
     "name": "stdout",
     "output_type": "stream",
     "text": [
      "yes\n"
     ]
    }
   ],
   "source": [
    "val_max = np.argmax(predict_result[0])\n",
    "for key, val in tokenizer.word_index.items():\n",
    "    if val == val_max:\n",
    "        k = key\n",
    "print(k)"
   ]
  },
  {
   "cell_type": "code",
   "execution_count": 38,
   "metadata": {},
   "outputs": [
    {
     "data": {
      "text/plain": [
       "0.9023414"
      ]
     },
     "execution_count": 38,
     "metadata": {},
     "output_type": "execute_result"
    }
   ],
   "source": [
    "predict_result[0][val_max] #Probability of prediction"
   ]
  },
  {
   "cell_type": "code",
   "execution_count": null,
   "metadata": {},
   "outputs": [],
   "source": []
  }
 ],
 "metadata": {
  "kernelspec": {
   "display_name": "Python 3",
   "language": "python",
   "name": "python3"
  },
  "language_info": {
   "codemirror_mode": {
    "name": "ipython",
    "version": 3
   },
   "file_extension": ".py",
   "mimetype": "text/x-python",
   "name": "python",
   "nbconvert_exporter": "python",
   "pygments_lexer": "ipython3",
   "version": "3.6.8"
  }
 },
 "nbformat": 4,
 "nbformat_minor": 2
}
